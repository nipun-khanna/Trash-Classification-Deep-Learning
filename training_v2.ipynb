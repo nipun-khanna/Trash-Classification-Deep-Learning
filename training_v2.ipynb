{
 "cells": [
  {
   "cell_type": "code",
   "execution_count": 46,
   "metadata": {},
   "outputs": [],
   "source": [
    "from keras.api.applications import EfficientNetB3\n",
    "from keras import layers\n",
    "import keras\n",
    "import json\n",
    "import pandas as pd\n",
    "import tensorflow"
   ]
  },
  {
   "cell_type": "code",
   "execution_count": 47,
   "metadata": {},
   "outputs": [
    {
     "name": "stdout",
     "output_type": "stream",
     "text": [
      "Found 2527 files belonging to 6 classes.\n"
     ]
    }
   ],
   "source": [
    "BATCH_SIZE = 32\n",
    "RESOLUTION = 300\n",
    "\n",
    "trashnet = keras.utils.image_dataset_from_directory(\n",
    "    \"./data/trashnet\",\n",
    "    labels=\"inferred\",\n",
    "    label_mode=\"categorical\",\n",
    "    image_size=(RESOLUTION, RESOLUTION),\n",
    "    batch_size=BATCH_SIZE\n",
    ")"
   ]
  },
  {
   "cell_type": "code",
   "execution_count": 48,
   "metadata": {},
   "outputs": [],
   "source": [
    "augmentation_layers = [\n",
    "    # Lighting variations\n",
    "    layers.RandomBrightness(factor=(-0.2, 0.2)),\n",
    "    # Blurring\n",
    "    layers.GaussianNoise(stddev=0.1),\n",
    "    # Distortions\n",
    "    layers.RandomRotation(factor=0.1, fill_mode='nearest'),\n",
    "    layers.RandomZoom(height_factor=(-0.2, 0.2), width_factor=(-0.2, 0.2), fill_mode='nearest'),\n",
    "    layers.RandomTranslation(height_factor=0.1, width_factor=0.1, fill_mode='nearest'),\n",
    "    # Color variations\n",
    "    layers.RandomContrast(factor=(0.8, 1.2)),\n",
    "]\n",
    "\n",
    "def augment(image):\n",
    "    for layer in augmentation_layers:\n",
    "        image = layer(image)\n",
    "    return image"
   ]
  },
  {
   "cell_type": "code",
   "execution_count": 49,
   "metadata": {},
   "outputs": [],
   "source": [
    "TRASHNET_CLASSES = 6\n",
    "\n",
    "def preprocess(image, label):\n",
    "    # label = tensorflow.one_hot(int(label), TRASHNET_CLASSES)\n",
    "    image = augment(image)\n",
    "    return image, label\n",
    "\n",
    "training_dataset = trashnet.map(preprocess, num_parallel_calls=tensorflow.data.AUTOTUNE)\n",
    "# training_dataset = training_dataset.batch(batch_size=BATCH_SIZE, drop_remainder=True)\n",
    "training_dataset = training_dataset.prefetch(tensorflow.data.AUTOTUNE)"
   ]
  },
  {
   "cell_type": "code",
   "execution_count": 50,
   "metadata": {},
   "outputs": [],
   "source": [
    "inputs = layers.Input(shape=(RESOLUTION, RESOLUTION, 3))\n",
    "model = EfficientNetB3(weights='imagenet', include_top=False, input_tensor=inputs)\n",
    "\n",
    "# Freeze layers so we can train the top layers\n",
    "model.trainable = False\n",
    "\n",
    "# Recreate top layers\n",
    "x = layers.GlobalAveragePooling2D(name=\"avg_pool\")(model.output)\n",
    "x = layers.BatchNormalization()(x)\n",
    "x = layers.Dropout(0.2, name=\"top_dropout\")(x)\n",
    "outputs = layers.Dense(TRASHNET_CLASSES, activation=\"softmax\", name=\"pred\")(x)\n",
    "\n",
    "# Compile model\n",
    "model = keras.Model(inputs, outputs, name=\"EfficientNet\")\n",
    "optimizer = keras.optimizers.Adam(learning_rate=0.01)\n",
    "model.compile(optimizer=optimizer, loss=\"categorical_crossentropy\", metrics=[\"accuracy\"])"
   ]
  },
  {
   "cell_type": "code",
   "execution_count": 51,
   "metadata": {},
   "outputs": [
    {
     "name": "stdout",
     "output_type": "stream",
     "text": [
      "Epoch 1/10\n",
      "\u001b[1m79/79\u001b[0m \u001b[32m━━━━━━━━━━━━━━━━━━━━\u001b[0m\u001b[37m\u001b[0m \u001b[1m143s\u001b[0m 2s/step - accuracy: 0.6340 - loss: 1.4713\n",
      "Epoch 2/10\n",
      "\u001b[1m79/79\u001b[0m \u001b[32m━━━━━━━━━━━━━━━━━━━━\u001b[0m\u001b[37m\u001b[0m \u001b[1m129s\u001b[0m 2s/step - accuracy: 0.7819 - loss: 1.1165\n",
      "Epoch 3/10\n",
      "\u001b[1m79/79\u001b[0m \u001b[32m━━━━━━━━━━━━━━━━━━━━\u001b[0m\u001b[37m\u001b[0m \u001b[1m133s\u001b[0m 2s/step - accuracy: 0.7822 - loss: 1.1299\n",
      "Epoch 4/10\n",
      "\u001b[1m79/79\u001b[0m \u001b[32m━━━━━━━━━━━━━━━━━━━━\u001b[0m\u001b[37m\u001b[0m \u001b[1m135s\u001b[0m 2s/step - accuracy: 0.7906 - loss: 1.1315\n",
      "Epoch 5/10\n",
      "\u001b[1m79/79\u001b[0m \u001b[32m━━━━━━━━━━━━━━━━━━━━\u001b[0m\u001b[37m\u001b[0m \u001b[1m129s\u001b[0m 2s/step - accuracy: 0.8150 - loss: 1.0187\n",
      "Epoch 6/10\n",
      "\u001b[1m79/79\u001b[0m \u001b[32m━━━━━━━━━━━━━━━━━━━━\u001b[0m\u001b[37m\u001b[0m \u001b[1m131s\u001b[0m 2s/step - accuracy: 0.8229 - loss: 0.9908\n",
      "Epoch 7/10\n",
      "\u001b[1m79/79\u001b[0m \u001b[32m━━━━━━━━━━━━━━━━━━━━\u001b[0m\u001b[37m\u001b[0m \u001b[1m133s\u001b[0m 2s/step - accuracy: 0.8068 - loss: 1.0380\n",
      "Epoch 8/10\n",
      "\u001b[1m79/79\u001b[0m \u001b[32m━━━━━━━━━━━━━━━━━━━━\u001b[0m\u001b[37m\u001b[0m \u001b[1m134s\u001b[0m 2s/step - accuracy: 0.8239 - loss: 0.9380\n",
      "Epoch 9/10\n",
      "\u001b[1m79/79\u001b[0m \u001b[32m━━━━━━━━━━━━━━━━━━━━\u001b[0m\u001b[37m\u001b[0m \u001b[1m129s\u001b[0m 2s/step - accuracy: 0.8302 - loss: 0.8391\n",
      "Epoch 10/10\n",
      "\u001b[1m79/79\u001b[0m \u001b[32m━━━━━━━━━━━━━━━━━━━━\u001b[0m\u001b[37m\u001b[0m \u001b[1m130s\u001b[0m 2s/step - accuracy: 0.8292 - loss: 0.8892\n"
     ]
    },
    {
     "data": {
      "image/png": "[encoded data removed]",
      "text/plain": [
       "<Figure size 640x480 with 1 Axes>"
      ]
     },
     "metadata": {},
     "output_type": "display_data"
    }
   ],
   "source": [
    "import matplotlib.pyplot as plt\n",
    "\n",
    "epochs = 10\n",
    "trained = model.fit(training_dataset, epochs=epochs)\n",
    "\n",
    "def plot_results(data):\n",
    "    plt.plot(data.history[\"accuracy\"])\n",
    "    plt.title(\"Model Accuracy on TrashNET dataset\")\n",
    "    plt.ylabel(\"accuracy\")\n",
    "    plt.xlabel(\"epoch\")\n",
    "    plt.legend([\"train\"], loc=\"upper left\")\n",
    "    plt.show()\n",
    "    \n",
    "plot_results(trained)"
   ]
  }
 ],
 "metadata": {
  "kernelspec": {
   "display_name": ".venv",
   "language": "python",
   "name": "python3"
  },
  "language_info": {
   "codemirror_mode": {
    "name": "ipython",
    "version": 3
   },
   "file_extension": ".py",
   "mimetype": "text/x-python",
   "name": "python",
   "nbconvert_exporter": "python",
   "pygments_lexer": "ipython3",
   "version": "3.11.4"
  }
 },
 "nbformat": 4,
 "nbformat_minor": 2
}
