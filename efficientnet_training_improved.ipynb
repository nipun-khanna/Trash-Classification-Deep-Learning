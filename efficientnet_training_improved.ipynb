{
 "cells": [
  {
   "cell_type": "code",
   "execution_count": 1,
   "metadata": {},
   "outputs": [],
   "source": [
    "from keras.api.applications import EfficientNetB0\n",
    "from keras import layers\n",
    "import keras\n",
    "import tensorflow\n",
    "import numpy as np\n",
    "import matplotlib.pyplot as plt"
   ]
  },
  {
   "cell_type": "code",
   "execution_count": 3,
   "metadata": {},
   "outputs": [
    {
     "name": "stdout",
     "output_type": "stream",
     "text": [
      "Found 3587 files belonging to 6 classes.\n",
      "Found 5471 files belonging to 6 classes.\n",
      "Found 1453 files belonging to 6 classes.\n"
     ]
    }
   ],
   "source": [
    "BATCH_SIZE = 32\n",
    "# B0 - 224x224\n",
    "# B3 - 300x300\n",
    "RESOLUTION = 224\n",
    "NUM_CLASSES = 6\n",
    "\n",
    "realwaste = keras.utils.image_dataset_from_directory(\n",
    "    \"./data/realwaste\",\n",
    "    labels=\"inferred\",\n",
    "    label_mode=\"categorical\",\n",
    "    image_size=(RESOLUTION, RESOLUTION),\n",
    "    batch_size=None\n",
    ")\n",
    "\n",
    "ecosort_train = keras.utils.image_dataset_from_directory(\n",
    "    \"./data/ecosort/train\",\n",
    "    labels=\"inferred\",\n",
    "    label_mode=\"categorical\",\n",
    "    image_size=(RESOLUTION, RESOLUTION),\n",
    "    batch_size=None\n",
    ")\n",
    "\n",
    "ecosort_test = keras.utils.image_dataset_from_directory(\n",
    "    \"./data/ecosort/test\",\n",
    "    labels=\"inferred\",\n",
    "    label_mode=\"categorical\",\n",
    "    image_size=(RESOLUTION, RESOLUTION),\n",
    "    batch_size=None\n",
    ")"
   ]
  },
  {
   "cell_type": "code",
   "execution_count": 5,
   "metadata": {},
   "outputs": [],
   "source": [
    "def split(ds, train_split=0.8, val_split=0.1):\n",
    "    ds_size = len(list(ds.as_numpy_iterator()))\n",
    "    ds = ds.shuffle(ds.cardinality(), reshuffle_each_iteration=False)\n",
    "    train_size = int(train_split * ds_size)\n",
    "    val_size = int(val_split * ds_size)\n",
    "\n",
    "    train_ds = ds.take(train_size)\n",
    "    val_ds = ds.skip(train_size).take(val_size)\n",
    "    test_ds = ds.skip(train_size).skip(val_size)\n",
    "\n",
    "    return train_ds, val_ds, test_ds\n",
    "\n",
    "def split_ecosort(train_split=0.9, val_split=0.1):\n",
    "    ds_size = len(list(ecosort_train.as_numpy_iterator()))\n",
    "    ds = ecosort_train.shuffle(ecosort_train.cardinality(), reshuffle_each_iteration=False)\n",
    "    train_size = int(train_split * ds_size)\n",
    "    val_size = int(val_split * ds_size)\n",
    "\n",
    "    train_ds = ds.take(train_size)\n",
    "    val_ds = ds.skip(train_size).take(val_size)\n",
    "    return train_ds, val_ds\n",
    "\n",
    "training_dataset, validation_dataset, test_dataset = split(realwaste)\n",
    "\n",
    "training_dataset_ecosort, validation_dataset_ecosort = split_ecosort()\n",
    "\n",
    "training_dataset = training_dataset.concatenate(training_dataset_ecosort)\n",
    "validation_dataset = validation_dataset.concatenate(validation_dataset_ecosort)\n",
    "test_dataset = test_dataset.concatenate(ecosort_test)"
   ]
  },
  {
   "cell_type": "code",
   "execution_count": 6,
   "metadata": {},
   "outputs": [],
   "source": [
    "augmentation_layers = [\n",
    "    # Lighting variations\n",
    "    layers.RandomBrightness(factor=(-0.3, 0.3)),\n",
    "    # Blurring\n",
    "    layers.GaussianNoise(stddev=0.2),\n",
    "    # Distortions\n",
    "    layers.RandomRotation(factor=0.2, fill_mode='nearest'),\n",
    "    layers.RandomFlip(mode='horizontal'),\n",
    "    layers.RandomZoom(height_factor=(-0.3, 0.3), width_factor=(-0.3, 0.3)),\n",
    "    layers.RandomTranslation(height_factor=0.2, width_factor=0.2, fill_mode='nearest'),\n",
    "    # Color variations\n",
    "    layers.RandomContrast(factor=(0.7, 1.3)),\n",
    "]\n",
    "\n",
    "def augment(image):\n",
    "    for layer in augmentation_layers:\n",
    "        image = layer(image)\n",
    "    return image"
   ]
  },
  {
   "cell_type": "code",
   "execution_count": 7,
   "metadata": {},
   "outputs": [],
   "source": [
    "def preprocess_augment(image, label):\n",
    "    image = tensorflow.image.resize(image, (RESOLUTION, RESOLUTION))\n",
    "    image = augment(image)\n",
    "    return image, label\n",
    "\n",
    "def resize(image, label):\n",
    "    image = tensorflow.image.resize(image, (RESOLUTION, RESOLUTION))\n",
    "    return image, label\n",
    "\n",
    "# Preprocess training\n",
    "training_dataset = training_dataset.map(preprocess_augment, num_parallel_calls=tensorflow.data.AUTOTUNE)\n",
    "training_dataset = training_dataset.batch(BATCH_SIZE).prefetch(tensorflow.data.AUTOTUNE)\n",
    "\n",
    "# Preprocess validation & test\n",
    "validation_dataset = validation_dataset.map(resize, num_parallel_calls=tensorflow.data.AUTOTUNE)\n",
    "validation_dataset = validation_dataset.batch(BATCH_SIZE).prefetch(tensorflow.data.AUTOTUNE)\n",
    "\n",
    "test_dataset = test_dataset.map(resize, num_parallel_calls=tensorflow.data.AUTOTUNE)\n",
    "test_dataset = test_dataset.batch(BATCH_SIZE).prefetch(tensorflow.data.AUTOTUNE)"
   ]
  },
  {
   "cell_type": "code",
   "execution_count": 8,
   "metadata": {},
   "outputs": [],
   "source": [
    "inputs = layers.Input(shape=(RESOLUTION, RESOLUTION, 3))\n",
    "model = EfficientNetB0(weights='imagenet', include_top=False, input_tensor=inputs)\n",
    "\n",
    "# Freeze layers so we can train the top layers\n",
    "model.trainable = False\n",
    "\n",
    "# Recreate top layers\n",
    "x = layers.GlobalAveragePooling2D(name=\"avg_pool\")(model.output)\n",
    "x = layers.BatchNormalization()(x)\n",
    "x = layers.Dropout(0.4, name=\"top_dropout\")(x)\n",
    "outputs = layers.Dense(NUM_CLASSES, activation=\"softmax\", name=\"pred\")(x)\n",
    "\n",
    "# Compile model\n",
    "model = keras.Model(inputs, outputs, name=\"EfficientNet\")\n",
    "optimizer = keras.optimizers.Adam(learning_rate=0.01)\n",
    "model.compile(optimizer=optimizer, loss=\"categorical_crossentropy\", metrics=[\"accuracy\"])"
   ]
  },
  {
   "cell_type": "code",
   "execution_count": null,
   "metadata": {},
   "outputs": [],
   "source": [
    "epochs = 10\n",
    "trained = model.fit(training_dataset, epochs=epochs, validation_data=validation_dataset)\n",
    "\n",
    "def plot_results(data):\n",
    "    plt.plot(data.history[\"accuracy\"])\n",
    "    plt.plot(data.history[\"val_accuracy\"])\n",
    "    plt.title(\"EfficientNetB0 Accuracy with RealWaste and EcoSort\")\n",
    "    plt.ylabel(\"accuracy\")\n",
    "    plt.xlabel(\"epoch\")\n",
    "    plt.legend([\"train\", \"validation\"], loc=\"upper left\")\n",
    "    plt.show()\n",
    "    \n",
    "plot_results(trained)"
   ]
  },
  {
   "cell_type": "code",
   "execution_count": 11,
   "metadata": {},
   "outputs": [
    {
     "name": "stdout",
     "output_type": "stream",
     "text": [
      "Epoch 1/5\n"
     ]
    },
    {
     "name": "stdout",
     "output_type": "stream",
     "text": [
      "\u001b[1m244/244\u001b[0m \u001b[32m━━━━━━━━━━━━━━━━━━━━\u001b[0m\u001b[37m\u001b[0m \u001b[1m164s\u001b[0m 626ms/step - accuracy: 0.6938 - loss: 0.8622 - val_accuracy: 0.8276 - val_loss: 0.5227\n",
      "Epoch 2/5\n",
      "\u001b[1m244/244\u001b[0m \u001b[32m━━━━━━━━━━━━━━━━━━━━\u001b[0m\u001b[37m\u001b[0m \u001b[1m152s\u001b[0m 615ms/step - accuracy: 0.7224 - loss: 0.7845 - val_accuracy: 0.8541 - val_loss: 0.4556\n",
      "Epoch 3/5\n",
      "\u001b[1m244/244\u001b[0m \u001b[32m━━━━━━━━━━━━━━━━━━━━\u001b[0m\u001b[37m\u001b[0m \u001b[1m151s\u001b[0m 613ms/step - accuracy: 0.7493 - loss: 0.7161 - val_accuracy: 0.8575 - val_loss: 0.3870\n",
      "Epoch 4/5\n",
      "\u001b[1m244/244\u001b[0m \u001b[32m━━━━━━━━━━━━━━━━━━━━\u001b[0m\u001b[37m\u001b[0m \u001b[1m151s\u001b[0m 613ms/step - accuracy: 0.7743 - loss: 0.6303 - val_accuracy: 0.8652 - val_loss: 0.3552\n",
      "Epoch 5/5\n",
      "\u001b[1m244/244\u001b[0m \u001b[32m━━━━━━━━━━━━━━━━━━━━\u001b[0m\u001b[37m\u001b[0m \u001b[1m153s\u001b[0m 619ms/step - accuracy: 0.7890 - loss: 0.5879 - val_accuracy: 0.8972 - val_loss: 0.3202\n"
     ]
    },
    {
     "data": {
      "image/png": "[encoded data removed]",
      "text/plain": [
       "<Figure size 640x480 with 1 Axes>"
      ]
     },
     "metadata": {},
     "output_type": "display_data"
    }
   ],
   "source": [
    "for layer in model.layers[-40:]:\n",
    "        if not isinstance(layer, layers.BatchNormalization):\n",
    "            layer.trainable = True\n",
    "\n",
    "optimizer = keras.optimizers.Adam(learning_rate=0.0001)\n",
    "model.compile(optimizer=optimizer, loss=\"categorical_crossentropy\", metrics=[\"accuracy\"])\n",
    "\n",
    "epochs = 5\n",
    "unfrozen_train = model.fit(training_dataset, epochs=epochs, validation_data=validation_dataset, shuffle=True)\n",
    "\n",
    "def plot_tuned(data):\n",
    "    plt.plot(data.history[\"accuracy\"])\n",
    "    plt.plot(data.history[\"val_accuracy\"])\n",
    "    plt.title(\"Fine-Tuned and Retrained EfficientNetB0 Accuracy on RealWaste\")\n",
    "    plt.ylabel(\"accuracy\")\n",
    "    plt.xlabel(\"epoch\")\n",
    "    plt.legend([\"train\", \"validation\"], loc=\"upper left\")\n",
    "    plt.show()\n",
    "\n",
    "plot_tuned(unfrozen_train)"
   ]
  },
  {
   "cell_type": "code",
   "execution_count": 12,
   "metadata": {},
   "outputs": [
    {
     "name": "stdout",
     "output_type": "stream",
     "text": [
      "\u001b[1m57/57\u001b[0m \u001b[32m━━━━━━━━━━━━━━━━━━━━\u001b[0m\u001b[37m\u001b[0m \u001b[1m28s\u001b[0m 459ms/step - accuracy: 0.8580 - loss: 0.4225\n",
      "Test on unseen RealWaste and EcoSort\n",
      "Test Accuracy: 0.8902\n",
      "Test Loss: 0.3189\n"
     ]
    }
   ],
   "source": [
    "loss, accuracy = model.evaluate(test_dataset, verbose=1)\n",
    "print(\"Test on unseen RealWaste and EcoSort\")\n",
    "print(f\"Test Accuracy: {accuracy:.4f}\")\n",
    "print(f\"Test Loss: {loss:.4f}\")"
   ]
  },
  {
   "cell_type": "code",
   "execution_count": 13,
   "metadata": {},
   "outputs": [
    {
     "name": "stdout",
     "output_type": "stream",
     "text": [
      "Found 2527 files belonging to 6 classes.\n",
      "\u001b[1m79/79\u001b[0m \u001b[32m━━━━━━━━━━━━━━━━━━━━\u001b[0m\u001b[37m\u001b[0m \u001b[1m36s\u001b[0m 448ms/step - accuracy: 0.8656 - loss: 0.6227\n",
      "Test on TrashNet\n",
      "Test Accuracy: 0.86070\n",
      "Test Loss: 0.67983\n"
     ]
    }
   ],
   "source": [
    "# Evaluate on TrashNet\n",
    "trashnet = keras.utils.image_dataset_from_directory(\n",
    "    \"./data/trashnet\",\n",
    "    labels=\"inferred\",\n",
    "    label_mode=\"categorical\",\n",
    "    image_size=(RESOLUTION, RESOLUTION),\n",
    "    batch_size=32\n",
    ")\n",
    "trash_test_dataset = trashnet.map(resize, num_parallel_calls=tensorflow.data.AUTOTUNE)\n",
    "\n",
    "loss, accuracy = model.evaluate(trash_test_dataset, verbose=1)\n",
    "print(\"Test on TrashNet\")\n",
    "print(f\"Test Accuracy: {accuracy:.5f}\")\n",
    "print(f\"Test Loss: {loss:.5f}\")"
   ]
  }
 ],
 "metadata": {
  "kernelspec": {
   "display_name": ".venv",
   "language": "python",
   "name": "python3"
  },
  "language_info": {
   "codemirror_mode": {
    "name": "ipython",
    "version": 3
   },
   "file_extension": ".py",
   "mimetype": "text/x-python",
   "name": "python",
   "nbconvert_exporter": "python",
   "pygments_lexer": "ipython3",
   "version": "3.11.4"
  }
 },
 "nbformat": 4,
 "nbformat_minor": 2
}
